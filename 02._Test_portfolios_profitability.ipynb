{
 "cells": [
  {
   "cell_type": "code",
   "execution_count": 1,
   "id": "41a30668",
   "metadata": {},
   "outputs": [],
   "source": [
    "import yfinance as yf\n",
    "import pandas\n",
    "import numpy\n",
    "import matplotlib.pyplot as plt\n",
    "import math\n",
    "from pypfopt.discrete_allocation import DiscreteAllocation, get_latest_prices\n",
    "\n",
    "tickers = ['AAPL', 'GOOG', 'MSFT', 'AMZN', 'INTC', 'AMD', 'NVDA', 'F', 'TSLA', 'JPM', 'MS', 'VOO']\n",
    "data_dec_2021 = yf.download(tickers, start='2021-12-01', end='2022-01-01', interval='1mo', progress=False)['Close'].dropna()\n",
    "latest_prices_data_dec_2021 = get_latest_prices(data_dec_2021)\n",
    "\n",
    "data_2022 = yf.download(tickers, start='2021-12-01', end='2022-07-01', interval='1mo', progress=False)['Close'].dropna()"
   ]
  },
  {
   "cell_type": "code",
   "execution_count": 2,
   "id": "ee24a048",
   "metadata": {},
   "outputs": [
    {
     "name": "stdout",
     "output_type": "stream",
     "text": [
      "Portfolio based only on known data: {'AMD': 6.0, 'AMZN': 86.0, 'F': 145.0, 'GOOG': 40.0, 'INTC': 451.0, 'JPM': 67.0, 'MSFT': 51.0, 'NVDA': 32.0, 'VOO': 34.0}\n",
      "Remaining balance: USD 756.9376411437988\n",
      " - - - - - \n",
      "Balance history without prediction = [100000.0, 92412.17966461182, 90346.26678657532, 93524.80358505249, 79230.69672775269, 79893.63344955444, 70498.47682476044]\n"
     ]
    }
   ],
   "source": [
    "### Portfolio based only on known data\n",
    "weights_basic = {}\n",
    "weights_basic['AMD'] = 0.00892\n",
    "weights_basic['AMZN'] = 0.14382\n",
    "weights_basic['F'] = 0.03027\n",
    "weights_basic['GOOG'] = 0.05891\n",
    "weights_basic['INTC'] = 0.23247\n",
    "weights_basic['JPM'] = 0.10737\n",
    "weights_basic['MSFT'] = 0.17157\n",
    "weights_basic['NVDA'] = 0.09703\n",
    "weights_basic['VOO'] = 0.14964\n",
    "\n",
    "balance_usd = 100_000\n",
    "balance_remain = balance_usd\n",
    "stocks_basic = {}\n",
    "for key in weights_basic:\n",
    "    spent_usd = balance_usd * weights_basic[key]\n",
    "    one_stock_price = latest_prices_data_dec_2021[key]\n",
    "    stocks_number = spent_usd // one_stock_price\n",
    "    stocks_basic[key] = stocks_number\n",
    "    balance_remain = balance_remain - (stocks_number * one_stock_price)\n",
    "print('Portfolio based only on known data:', stocks_basic)\n",
    "print('Remaining balance: USD', balance_remain)\n",
    "print(' - - - - - ')\n",
    "\n",
    "balance_wo_pred_array = []\n",
    "for month in data_2022.index:\n",
    "    usd_balance = balance_remain\n",
    "    for key in stocks_basic:\n",
    "        usd_balance = usd_balance + (data_2022[key][month] * stocks_basic[key])\n",
    "    balance_wo_pred_array.append(usd_balance)\n",
    "print('Balance history without prediction =', balance_wo_pred_array)"
   ]
  },
  {
   "cell_type": "code",
   "execution_count": 3,
   "id": "bef4e0af",
   "metadata": {},
   "outputs": [
    {
     "name": "stdout",
     "output_type": "stream",
     "text": [
      "Portfolio based only on data with prediction: {'AMD': 13.0, 'AMZN': 92.0, 'F': 124.0, 'GOOG': 44.0, 'INTC': 489.0, 'JPM': 65.0, 'MSFT': 45.0, 'NVDA': 26.0, 'VOO': 34.0}\n",
      "Remaining balance: USD 749.0676727294922\n",
      " - - - - - \n",
      "Balance history with prediction = [100000.0, 92440.91463470459, 90567.11878585815, 93587.40674209595, 79369.42181015015, 80160.87646484375, 70612.75694274902]\n"
     ]
    }
   ],
   "source": [
    "### Portfolio based from one month prediction\n",
    "weights_basic = {}\n",
    "weights_basic['AMD'] = 0.02014\n",
    "weights_basic['AMZN'] = 0.15413\n",
    "weights_basic['F'] = 0.02581\n",
    "weights_basic['GOOG'] = 0.06402\n",
    "weights_basic['INTC'] = 0.25194\n",
    "weights_basic['JPM'] = 0.1044\n",
    "weights_basic['MSFT'] = 0.15357\n",
    "weights_basic['NVDA'] = 0.07661\n",
    "weights_basic['VOO'] = 0.14938\n",
    "\n",
    "balance_usd = 100_000\n",
    "balance_remain = balance_usd\n",
    "stocks_basic = {}\n",
    "for key in weights_basic:\n",
    "    spent_usd = balance_usd * weights_basic[key]\n",
    "    one_stock_price = latest_prices_data_dec_2021[key]\n",
    "    stocks_number = spent_usd // one_stock_price\n",
    "    stocks_basic[key] = stocks_number\n",
    "    balance_remain = balance_remain - (stocks_number * one_stock_price)\n",
    "print('Portfolio based only on data with prediction:', stocks_basic)\n",
    "print('Remaining balance: USD', balance_remain)\n",
    "print(' - - - - - ')\n",
    "\n",
    "balance_with_prediction = []\n",
    "for month in data_2022.index:\n",
    "    usd_balance = balance_remain\n",
    "    for key in stocks_basic:\n",
    "        usd_balance = usd_balance + (data_2022[key][month] * stocks_basic[key])\n",
    "    balance_with_prediction.append(usd_balance)\n",
    "print('Balance history with prediction =', balance_with_prediction)"
   ]
  },
  {
   "cell_type": "code",
   "execution_count": 4,
   "id": "48690cc6",
   "metadata": {},
   "outputs": [
    {
     "name": "stdout",
     "output_type": "stream",
     "text": [
      "Prediction was useful\n",
      "delta = USD 114.28011798858643\n"
     ]
    }
   ],
   "source": [
    "if (balance_with_prediction[len(balance_with_prediction) - 1] > balance_wo_pred_array[len(balance_wo_pred_array) - 1]):\n",
    "    print('Prediction was useful')\n",
    "else:\n",
    "    print('Prediction was harmful')\n",
    "delta = abs((balance_with_prediction[len(balance_with_prediction)-1]) - (balance_wo_pred_array[len(balance_wo_pred_array)-1]))\n",
    "print('delta = USD', delta)"
   ]
  },
  {
   "cell_type": "code",
   "execution_count": 5,
   "id": "9fbc992b",
   "metadata": {},
   "outputs": [
    {
     "name": "stdout",
     "output_type": "stream",
     "text": [
      "[0, 0.38, 2.29, 0.97, 0.67, 1.33, 0.39]\n"
     ]
    },
    {
     "data": {
      "image/png": "[encoded data removed]",
      "text/plain": [
       "<Figure size 432x288 with 1 Axes>"
      ]
     },
     "metadata": {
      "needs_background": "light"
     },
     "output_type": "display_data"
    }
   ],
   "source": [
    "delta_percents = []\n",
    "for i in range(len(data_2022.index)):\n",
    "    loss_wo_pred = 100_000 - balance_wo_pred_array[i]\n",
    "    loss_with_prediction = 100_000 - balance_with_prediction[i]\n",
    "    if loss_wo_pred == loss_with_prediction:\n",
    "        delta_percents.append(0)\n",
    "    elif loss_wo_pred > loss_with_prediction:\n",
    "        percents = 100 - ((loss_with_prediction / loss_wo_pred) * 100)\n",
    "        delta_percents.append(round(percents, 2))\n",
    "    else:\n",
    "        percents = 100 - ((loss_wo_pred / loss_with_prediction) * 100)\n",
    "        delta_percents.append(-1 * round(percents, 2))\n",
    "print(delta_percents)\n",
    "x = data_2022.index\n",
    "plt.plot(x, delta_percents)\n",
    "plt.show()"
   ]
  },
  {
   "cell_type": "code",
   "execution_count": 6,
   "id": "a67c2765",
   "metadata": {
    "scrolled": true
   },
   "outputs": [
    {
     "data": {
      "image/png": "[encoded data removed]",
      "text/plain": [
       "<Figure size 432x288 with 1 Axes>"
      ]
     },
     "metadata": {
      "needs_background": "light"
     },
     "output_type": "display_data"
    }
   ],
   "source": [
    "x = data_2022.index\n",
    "plt.plot(x, balance_wo_pred_array, label = \"balance change without prediction\")\n",
    "plt.plot(x, balance_with_prediction, label = \"balance change with prediction\")\n",
    "plt.legend()\n",
    "plt.show()"
   ]
  },
  {
   "cell_type": "code",
   "execution_count": null,
   "id": "366ff206",
   "metadata": {},
   "outputs": [],
   "source": []
  }
 ],
 "metadata": {
  "kernelspec": {
   "display_name": "Python 3 (ipykernel)",
   "language": "python",
   "name": "python3"
  },
  "language_info": {
   "codemirror_mode": {
    "name": "ipython",
    "version": 3
   },
   "file_extension": ".py",
   "mimetype": "text/x-python",
   "name": "python",
   "nbconvert_exporter": "python",
   "pygments_lexer": "ipython3",
   "version": "3.7.9"
  }
 },
 "nbformat": 4,
 "nbformat_minor": 5
}
