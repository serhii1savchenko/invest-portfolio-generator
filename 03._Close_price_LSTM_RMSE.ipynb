{
 "cells": [
  {
   "cell_type": "code",
   "execution_count": 1,
   "id": "09d730f3",
   "metadata": {},
   "outputs": [
    {
     "name": "stderr",
     "output_type": "stream",
     "text": [
      "Using TensorFlow backend.\n"
     ]
    },
    {
     "name": "stdout",
     "output_type": "stream",
     "text": [
      "All data loaded\n"
     ]
    }
   ],
   "source": [
    "import yfinance as yf\n",
    "import pandas\n",
    "import numpy\n",
    "import matplotlib.pyplot as plt\n",
    "import math\n",
    "from keras.models import Sequential\n",
    "from keras.layers import Dense\n",
    "from keras.layers import LSTM\n",
    "from sklearn.preprocessing import MinMaxScaler\n",
    "from sklearn.metrics import mean_squared_error\n",
    "import time\n",
    "import datetime\n",
    "\n",
    "tickers = ['AAPL', 'GOOG', 'MSFT', 'AMZN', 'INTC', 'AMD', 'NVDA', 'F', 'TSLA', 'JPM', 'MS', 'VOO']\n",
    "\n",
    "def get_monthly_data_from_yf(ticker, start_date, end_date):\n",
    "    return yf.download(ticker, start_date, end_date, interval='1mo', progress=False).dropna()\n",
    "\n",
    "# Get data for all tickers 2016 - 2021\n",
    "data_ten_years = {}\n",
    "for ticker in tickers:\n",
    "    data_ten_years[ticker] = get_monthly_data_from_yf(ticker, '2012-01-01', '2022-01-01')\n",
    "print('All data loaded')"
   ]
  },
  {
   "cell_type": "code",
   "execution_count": 2,
   "id": "18d7a5db",
   "metadata": {},
   "outputs": [],
   "source": [
    "# convert an array of values into a dataset matrix\n",
    "def create_dataset(dataset, look_back=1):\n",
    "    dataX, dataY = [], []\n",
    "    for i in range(len(dataset)-look_back-1):\n",
    "        a = dataset[i:(i+look_back), 0]\n",
    "        dataX.append(a)\n",
    "        dataY.append(dataset[i + look_back, 0])\n",
    "    return numpy.array(dataX), numpy.array(dataY)\n",
    "\n",
    "def next_month_close_price_rmse(dataset, ticker):\n",
    "    # fix random seed for reproducibility\n",
    "    numpy.random.seed(7)\n",
    "    dataframe = dataset[ticker]\n",
    "    dataframe = dataframe.loc[:, dataframe.columns.isin(['Close'])]\n",
    "    dataset = dataframe.values\n",
    "    dataset = dataset.astype('float32')\n",
    "    # normalize the dataset\n",
    "    scaler = MinMaxScaler(feature_range=(0, 1))\n",
    "    dataset = scaler.fit_transform(dataset)\n",
    "    # split into train and test sets\n",
    "    train_size = int(len(dataset) * 0.67)\n",
    "    test_size = len(dataset) - train_size\n",
    "    train, test = dataset[0:train_size,:], dataset[train_size:len(dataset),:]\n",
    "    #print(\"Train data size =\", len(train), \"Test data size =\", len(test))\n",
    "    # reshape into X=t and Y=t+1\n",
    "    look_back = 1\n",
    "    trainX, trainY = create_dataset(train, look_back)\n",
    "    testX, testY = create_dataset(test, look_back)\n",
    "    # print test arrays X and Y \n",
    "    #for i in range(len(testX)):\n",
    "    #    print(testX[i], testY[i])\n",
    "    # reshape input to be [samples, time steps, features]\n",
    "    trainX = numpy.reshape(trainX, (trainX.shape[0], 1, trainX.shape[1]))\n",
    "    testX = numpy.reshape(testX, (testX.shape[0], 1, testX.shape[1]))\n",
    "    # create and fit the LSTM network\n",
    "    model = Sequential()\n",
    "    model.add(LSTM(4, input_shape=(1, look_back)))\n",
    "    model.add(Dense(1))\n",
    "    model.compile(loss='mean_squared_error', optimizer='adam')\n",
    "    #print(\"LSTM network started...\", \"Train data size =\", len(train), \"Test data size =\", len(test))\n",
    "    start_time_ms = time.time() * 1000\n",
    "    model.fit(trainX, trainY, epochs=100, batch_size=1, verbose=0)        # verbose=2\n",
    "    end_time_ms = time.time() * 1000\n",
    "    #print(\"LSTM network finished. Time spent = %.2f seconds.\" % ((end_time_ms - start_time_ms) / 1000))\n",
    "    # make predictions\n",
    "    trainPredict = model.predict(trainX)\n",
    "    testPredict = model.predict(testX)\n",
    "    # invert predictions\n",
    "    trainPredict = scaler.inverse_transform(trainPredict)\n",
    "    trainY = scaler.inverse_transform([trainY])\n",
    "    testPredict = scaler.inverse_transform(testPredict)\n",
    "    testY = scaler.inverse_transform([testY])\n",
    "    # calculate root mean squared error\n",
    "    trainScore = math.sqrt(mean_squared_error(trainY[0], trainPredict[:,0]))\n",
    "    #print('Train Score: %.2f RMSE' % (trainScore))\n",
    "    testScore = math.sqrt(mean_squared_error(testY[0], testPredict[:,0]))\n",
    "    #print('Test Score: %.2f RMSE' % (testScore))\n",
    "    return [trainScore, testScore]\n",
    "\n",
    "def weighted_next_month_close_price_rmse(data, ticker):\n",
    "    rmse_1 = next_month_close_price_rmse(data, ticker)\n",
    "    rmse_2 = next_month_close_price_rmse(data, ticker)\n",
    "    rmse_3 = next_month_close_price_rmse(data, ticker)\n",
    "    trainScoreW = (rmse_1[0] + rmse_2[0] + rmse_3[0]) / 3\n",
    "    testScoreW = (rmse_1[1] + rmse_2[1] + rmse_3[1]) / 3\n",
    "    return [trainScoreW, testScoreW]"
   ]
  },
  {
   "cell_type": "code",
   "execution_count": 3,
   "id": "4adf9624",
   "metadata": {},
   "outputs": [
    {
     "name": "stdout",
     "output_type": "stream",
     "text": [
      "AAPL WEIGHTED RMSE = [1.8310916665468717, 10.322127090688559]\n",
      "GOOG WEIGHTED RMSE = [1.9190938728478255, 6.109113728709345]\n",
      "MSFT WEIGHTED RMSE = [2.8535548309065555, 14.407447008181371]\n",
      "AMZN WEIGHTED RMSE = [2.4288906629290556, 10.612765009409573]\n",
      "INTC WEIGHTED RMSE = [1.9853884818172076, 4.026701857922876]\n",
      "AMD WEIGHTED RMSE = [1.1214230549311095, 9.53835200043794]\n",
      "NVDA WEIGHTED RMSE = [2.434245664479548, 19.63970181012607]\n",
      "F WEIGHTED RMSE = [0.7874455989965922, 1.2306974998897224]\n",
      "TSLA WEIGHTED RMSE = [2.4127387456880705, 39.87818325361902]\n",
      "JPM WEIGHTED RMSE = [3.914968183730244, 9.630569315415325]\n",
      "MS WEIGHTED RMSE = [2.2635242623132146, 5.634289223917972]\n",
      "VOO WEIGHTED RMSE = [5.130202197698368, 16.703819998213564]\n",
      "{'AAPL': [1.8310916665468717, 10.322127090688559], 'GOOG': [1.9190938728478255, 6.109113728709345], 'MSFT': [2.8535548309065555, 14.407447008181371], 'AMZN': [2.4288906629290556, 10.612765009409573], 'INTC': [1.9853884818172076, 4.026701857922876], 'AMD': [1.1214230549311095, 9.53835200043794], 'NVDA': [2.434245664479548, 19.63970181012607], 'F': [0.7874455989965922, 1.2306974998897224], 'TSLA': [2.4127387456880705, 39.87818325361902], 'JPM': [3.914968183730244, 9.630569315415325], 'MS': [2.2635242623132146, 5.634289223917972], 'VOO': [5.130202197698368, 16.703819998213564]}\n"
     ]
    }
   ],
   "source": [
    "rmse_next_month_close_price = {}\n",
    "for ticker in tickers:\n",
    "    rmse = weighted_next_month_close_price_rmse(data_ten_years, ticker)\n",
    "    rmse_next_month_close_price[ticker] = rmse\n",
    "    print(ticker, \"WEIGHTED RMSE =\", rmse)\n",
    "print(rmse_next_month_close_price)"
   ]
  },
  {
   "cell_type": "code",
   "execution_count": null,
   "id": "11c50ceb",
   "metadata": {},
   "outputs": [],
   "source": []
  }
 ],
 "metadata": {
  "kernelspec": {
   "display_name": "Python 3 (ipykernel)",
   "language": "python",
   "name": "python3"
  },
  "language_info": {
   "codemirror_mode": {
    "name": "ipython",
    "version": 3
   },
   "file_extension": ".py",
   "mimetype": "text/x-python",
   "name": "python",
   "nbconvert_exporter": "python",
   "pygments_lexer": "ipython3",
   "version": "3.7.9"
  }
 },
 "nbformat": 4,
 "nbformat_minor": 5
}
